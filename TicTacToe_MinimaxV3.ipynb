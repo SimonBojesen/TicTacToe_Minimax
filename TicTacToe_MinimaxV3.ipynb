{
 "cells": [
  {
   "cell_type": "markdown",
   "metadata": {},
   "source": [
    "# TicTacToe - In development - Minimax with Alpha Beta pruning\n",
    "\n",
    "## Initialize The Board"
   ]
  },
  {
   "cell_type": "code",
   "execution_count": 1,
   "metadata": {},
   "outputs": [],
   "source": [
    "# Initialize the players and signs\n",
    "EMPTY = '.'\n",
    "AI = 'X'\n",
    "HUMAN = 'O'"
   ]
  },
  {
   "cell_type": "code",
   "execution_count": 2,
   "metadata": {},
   "outputs": [],
   "source": [
    "# print the board, leave an empty lines and spaces for visibility\n",
    "def print_board(board):\n",
    "    print(\" \")\n",
    "    print(' '.join(board[:3]))\n",
    "    print(' '.join(board[3:6]))\n",
    "    print(' '.join(board[6:]))\n",
    "    print(\" \")"
   ]
  },
  {
   "cell_type": "code",
   "execution_count": 3,
   "metadata": {},
   "outputs": [],
   "source": [
    "# Define all possible winning combinations\n",
    "win_cases = [\n",
    "    [0, 1, 2],\n",
    "    [3, 4, 5],\n",
    "    [6, 7, 8],\n",
    "    [0, 3, 6],\n",
    "    [1, 4, 7],\n",
    "    [2, 5, 8],\n",
    "    [0, 4, 8],\n",
    "    [2, 4, 6]\n",
    "]"
   ]
  },
  {
   "cell_type": "markdown",
   "metadata": {},
   "source": [
    "## Supporting Functions"
   ]
  },
  {
   "cell_type": "code",
   "execution_count": 4,
   "metadata": {},
   "outputs": [],
   "source": [
    "# A winning game is if any of win-cases occurs\n",
    "def game_won_by(board):\n",
    "    for i in win_cases:\n",
    "        if board[i[0]] == board[i[1]] == board[i[2]] != EMPTY:\n",
    "            # win-case\n",
    "            return board[i[0]]\n",
    "    return EMPTY"
   ]
  },
  {
   "cell_type": "code",
   "execution_count": 5,
   "metadata": {},
   "outputs": [],
   "source": [
    "def evaluate(board):\n",
    "    for [i, j, k] in win_cases:\n",
    "        triple = [board[i], board[j], board[k]]\n",
    "        if triple.count(HUMAN) == 3: \n",
    "            return -10\n",
    "        if triple.count(AI) == 3: \n",
    "            return 10\n",
    "    return 0"
   ]
  },
  {
   "cell_type": "code",
   "execution_count": 6,
   "metadata": {},
   "outputs": [],
   "source": [
    "def all_possible_moves(board, sign):\n",
    "    move_list = []\n",
    "    for i, v in enumerate(board):\n",
    "        if v == EMPTY:\n",
    "            move_list.append(board[:i] + sign + board[i+1:])\n",
    "    return move_list"
   ]
  },
  {
   "cell_type": "code",
   "execution_count": 7,
   "metadata": {},
   "outputs": [],
   "source": [
    "def minimax(board, depth, isMax):\n",
    "    score = evaluate(board)\n",
    "    \n",
    "    if score == 10: \n",
    "        return score\n",
    "    if score == -10:\n",
    "        return score\n",
    "    if board.count(EMPTY) == 0:\n",
    "        return 0\n",
    "\n",
    "    if isMax:\n",
    "        best = float('-inf')\n",
    "        for move in all_possible_moves(board, AI):\n",
    "            best = max(best, minimax(move, depth + 1, not isMax))\n",
    "        return best\n",
    "    else:\n",
    "        best = float('inf')\n",
    "        for move in all_possible_moves(board, HUMAN):\n",
    "            best = min(best, minimax(move, depth + 1, not isMax))\n",
    "        return best"
   ]
  },
  {
   "cell_type": "markdown",
   "metadata": {},
   "source": [
    "## Play Game"
   ]
  },
  {
   "cell_type": "code",
   "execution_count": 8,
   "metadata": {},
   "outputs": [],
   "source": [
    "# AI makes a move based on minmax algorithmic search for the most rational move to make\n",
    "def ai_move(board):\n",
    "    best_move = board\n",
    "    best_value = float('-inf')\n",
    "    for move in all_possible_moves(board, AI):\n",
    "        #print(move)\n",
    "        move_val = minimax(move, 0, False)\n",
    "        #print(move_val)\n",
    "        if move_val > best_value or best_value == None:\n",
    "            best_move = move\n",
    "            best_value = move_val\n",
    "    return best_move"
   ]
  },
  {
   "cell_type": "code",
   "execution_count": 9,
   "metadata": {},
   "outputs": [],
   "source": [
    "# Human move approach still the same\n",
    "def human_move(board, row, column):\n",
    "    # get the index of the cell the user selected: 2D -> 1D \n",
    "    index = 3 * (row - 1) + (column - 1)\n",
    "    #  if this cell is empty, make the user move, otherwise do nothing\n",
    "    if board[index] == EMPTY:\n",
    "        # place HUMAN sign on board[index]\n",
    "        return board[:index] + HUMAN + board[index+1:]\n",
    "    return board"
   ]
  },
  {
   "cell_type": "code",
   "execution_count": 10,
   "metadata": {},
   "outputs": [],
   "source": [
    "# Play the game\n",
    "def game():\n",
    "    # start from empty board\n",
    "    board = EMPTY * 9\n",
    "    empty_cell_count = 9\n",
    "    end_flag = False\n",
    "    while empty_cell_count > 0 and not end_flag:        \n",
    "        # Player AI (always odd number of options)\n",
    "        if empty_cell_count % 2 == 1:\n",
    "            board = ai_move(board)\n",
    "        else:\n",
    "            # Human player\n",
    "            row = int(input('Enter row: '))\n",
    "            col = int(input('Enter column: '))\n",
    "            board = human_move(board, row, col)\n",
    "            \n",
    "        # Print current board status    \n",
    "        print_board(board)\n",
    "        \n",
    "        # Check if someone wins already, update the flag\n",
    "        end_flag = game_won_by(board) != EMPTY\n",
    "        \n",
    "        # Count how many empty cells left\n",
    "        empty_cell_count = board.count(EMPTY)      \n",
    "        # empty_cell_count = sum(1 for cell in board if cell == EMPTY_SIGN)\n",
    "     \n",
    "    print('Game ended. Winner: ', game_won_by(board))"
   ]
  },
  {
   "cell_type": "code",
   "execution_count": 11,
   "metadata": {},
   "outputs": [
    {
     "name": "stdout",
     "output_type": "stream",
     "text": [
      " \n",
      "X . .\n",
      ". . .\n",
      ". . .\n",
      " \n",
      "Enter row: 2\n",
      "Enter column: 2\n",
      " \n",
      "X . .\n",
      ". O .\n",
      ". . .\n",
      " \n",
      " \n",
      "X X .\n",
      ". O .\n",
      ". . .\n",
      " \n",
      "Enter row: 1\n",
      "Enter column: 3\n",
      " \n",
      "X X O\n",
      ". O .\n",
      ". . .\n",
      " \n",
      " \n",
      "X X O\n",
      ". O .\n",
      "X . .\n",
      " \n",
      "Enter row: 2\n",
      "Enter column: 1\n",
      " \n",
      "X X O\n",
      "O O .\n",
      "X . .\n",
      " \n",
      " \n",
      "X X O\n",
      "O O X\n",
      "X . .\n",
      " \n",
      "Enter row: 3\n",
      "Enter column: 2\n",
      " \n",
      "X X O\n",
      "O O X\n",
      "X O .\n",
      " \n",
      " \n",
      "X X O\n",
      "O O X\n",
      "X O X\n",
      " \n",
      "Game ended. Winner:  .\n"
     ]
    }
   ],
   "source": [
    "# Run the game\n",
    "game()"
   ]
  },
  {
   "cell_type": "code",
   "execution_count": null,
   "metadata": {},
   "outputs": [],
   "source": []
  },
  {
   "cell_type": "code",
   "execution_count": null,
   "metadata": {},
   "outputs": [],
   "source": []
  }
 ],
 "metadata": {
  "kernelspec": {
   "display_name": "Python 3",
   "language": "python",
   "name": "python3"
  },
  "language_info": {
   "codemirror_mode": {
    "name": "ipython",
    "version": 3
   },
   "file_extension": ".py",
   "mimetype": "text/x-python",
   "name": "python",
   "nbconvert_exporter": "python",
   "pygments_lexer": "ipython3",
   "version": "3.9.0"
  }
 },
 "nbformat": 4,
 "nbformat_minor": 2
}
